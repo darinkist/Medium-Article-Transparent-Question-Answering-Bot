{
  "cells": [
    {
      "cell_type": "markdown",
      "metadata": {
        "id": "view-in-github",
        "colab_type": "text"
      },
      "source": [
        "<a href=\"https://colab.research.google.com/github/darinkist/Medium-Article-Transparent-Question-Answering-Bot/blob/main/CodeForArticleWebsiteExample.ipynb\" target=\"_parent\"><img src=\"https://colab.research.google.com/assets/colab-badge.svg\" alt=\"Open In Colab\"/></a>"
      ]
    },
    {
      "cell_type": "code",
      "execution_count": null,
      "id": "588da5df",
      "metadata": {
        "id": "588da5df"
      },
      "outputs": [],
      "source": [
        "import os\n",
        "import pickle\n",
        "\n",
        "import faiss\n",
        "import pandas as pd\n",
        "import requests\n",
        "import xmltodict\n",
        "from bs4 import BeautifulSoup\n",
        "from langchain import OpenAI, PromptTemplate\n",
        "from langchain.chains import RetrievalQAWithSourcesChain\n",
        "from langchain.embeddings import OpenAIEmbeddings\n",
        "from langchain.memory import ConversationBufferMemory\n",
        "from langchain.text_splitter import RecursiveCharacterTextSplitter\n",
        "from langchain.vectorstores import FAISS\n",
        "from tqdm.notebook import tqdm\n",
        "\n",
        "os.environ[\"OPENAI_API_KEY\"] = \"<YOUR-API-KEY>\""
      ]
    },
    {
      "cell_type": "code",
      "execution_count": null,
      "id": "392a2c94",
      "metadata": {
        "id": "392a2c94"
      },
      "outputs": [],
      "source": [
        "# Gathering links to all articles by using sitemap\n",
        "r = requests.get(\"https://news.itsfoss.com/sitemap-posts.xml\")\n",
        "xml = r.text\n",
        "rss = xmltodict.parse(xml)\n",
        "\n",
        "article_links = [entry[\"loc\"] for entry in rss[\"urlset\"][\"url\"]]"
      ]
    },
    {
      "cell_type": "code",
      "execution_count": null,
      "id": "f47af52a",
      "metadata": {
        "id": "f47af52a"
      },
      "outputs": [],
      "source": [
        "# Helper to extract article content\n",
        "def extract_content(url):\n",
        "    html = requests.get(url).text\n",
        "    soup = BeautifulSoup(html, features=\"html.parser\")\n",
        "\n",
        "    elements = [\n",
        "        soup.select_one(\".c-topper__headline\"),\n",
        "        soup.select_one(\".c-topper__standfirst\"),\n",
        "        soup.select_one(\".c-content\"),\n",
        "    ]\n",
        "\n",
        "    text = \"\".join([element.get_text() for element in elements])\n",
        "\n",
        "    return text\n",
        "\n",
        "\n",
        "articles = []\n",
        "# Limited the list of > 900 articles to 10 for this example\n",
        "# Just remove [0:10] if you want all articles\n",
        "for url in tqdm(article_links[0:10], desc=\"Extracting article content\"):\n",
        "    articles.append({\"source\": url, \"content\": extract_content(url)})"
      ]
    },
    {
      "cell_type": "code",
      "execution_count": null,
      "id": "0365e1ec",
      "metadata": {
        "id": "0365e1ec"
      },
      "outputs": [],
      "source": [
        "# Split article data into chunks\n",
        "rec_splitter = RecursiveCharacterTextSplitter(chunk_size=1500, chunk_overlap=150)\n",
        "\n",
        "web_docs, meta = [], []\n",
        "\n",
        "for article in tqdm(articles, desc=\"Splitting articles into chunks\"):\n",
        "    splits = rec_splitter.split_text(article[\"content\"])\n",
        "    web_docs.extend(splits)\n",
        "    meta.extend([{\"source\": article[\"source\"]}] * len(splits))"
      ]
    },
    {
      "cell_type": "code",
      "execution_count": null,
      "id": "7bb66fb4",
      "metadata": {
        "id": "7bb66fb4"
      },
      "outputs": [],
      "source": [
        "# Create embeddings and store them together with the chunks in a vector store\n",
        "article_store = FAISS.from_texts(\n",
        "    texts=web_docs, embedding=OpenAIEmbeddings(), metadatas=meta\n",
        ")"
      ]
    },
    {
      "cell_type": "markdown",
      "id": "ecac4b79",
      "metadata": {
        "id": "ecac4b79"
      },
      "source": [
        "### Question Answering Bot"
      ]
    },
    {
      "cell_type": "code",
      "execution_count": null,
      "id": "f844f915",
      "metadata": {
        "id": "f844f915"
      },
      "outputs": [],
      "source": [
        "memory = ConversationBufferMemory(\n",
        "    memory_key=\"chat_history\",\n",
        "    input_key=\"question\",\n",
        "    output_key=\"answer\",\n",
        "    return_messages=True,\n",
        ")"
      ]
    },
    {
      "cell_type": "code",
      "execution_count": null,
      "id": "806b5906",
      "metadata": {
        "id": "806b5906"
      },
      "outputs": [],
      "source": [
        "template = \"\"\"You are a chatbot having a conversation with a human.\n",
        "Given the following extracted parts of a long document and a question,\n",
        "create a final answer.\n",
        "{context}\n",
        "{chat_history}\n",
        "Human: {question}\n",
        "Chatbot:\"\"\"\n",
        "\n",
        "question_prompt = PromptTemplate(\n",
        "    input_variables=[\"chat_history\", \"question\", \"context\"], template=template\n",
        ")"
      ]
    },
    {
      "cell_type": "code",
      "execution_count": null,
      "id": "701d3653",
      "metadata": {
        "id": "701d3653"
      },
      "outputs": [],
      "source": [
        "# Do now the transparent question answering\n",
        "article_chain = RetrievalQAWithSourcesChain.from_llm(\n",
        "    llm=OpenAI(temperature=0.0),\n",
        "    retriever=article_store.as_retriever(k=4),\n",
        "    memory=memory,\n",
        "    question_prompt=question_prompt,\n",
        ")"
      ]
    },
    {
      "cell_type": "code",
      "execution_count": null,
      "id": "a1101d85",
      "metadata": {
        "id": "a1101d85"
      },
      "outputs": [],
      "source": [
        "article_chain({\"question\": \"What is Skiff?\"}, return_only_outputs=True)"
      ]
    },
    {
      "cell_type": "code",
      "execution_count": null,
      "id": "8f475246",
      "metadata": {
        "id": "8f475246"
      },
      "outputs": [],
      "source": [
        "article_chain(\n",
        "    {\"question\": \"What are its functionalities?\"},\n",
        "    return_only_outputs=True,\n",
        ")"
      ]
    }
  ],
  "metadata": {
    "hide_input": false,
    "kernelspec": {
      "display_name": "Python 3 (ipykernel)",
      "language": "python",
      "name": "python3"
    },
    "language_info": {
      "codemirror_mode": {
        "name": "ipython",
        "version": 3
      },
      "file_extension": ".py",
      "mimetype": "text/x-python",
      "name": "python",
      "nbconvert_exporter": "python",
      "pygments_lexer": "ipython3",
      "version": "3.9.2"
    },
    "toc": {
      "base_numbering": 1,
      "nav_menu": {
        "height": "289px",
        "width": "196px"
      },
      "number_sections": true,
      "sideBar": true,
      "skip_h1_title": false,
      "title_cell": "Table of Contents",
      "title_sidebar": "Contents",
      "toc_cell": false,
      "toc_position": {},
      "toc_section_display": true,
      "toc_window_display": false
    },
    "colab": {
      "provenance": [],
      "include_colab_link": true
    }
  },
  "nbformat": 4,
  "nbformat_minor": 5
}